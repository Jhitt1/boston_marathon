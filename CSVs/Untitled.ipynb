{
 "cells": [
  {
   "cell_type": "code",
   "execution_count": 1,
   "id": "39d5b866",
   "metadata": {},
   "outputs": [],
   "source": [
    "from datetime import date\n",
    "import pandas as pd\n",
    "import numpy as np"
   ]
  },
  {
   "cell_type": "code",
   "execution_count": 2,
   "id": "7c7c58f0",
   "metadata": {},
   "outputs": [],
   "source": [
    "engagement = pd.read_csv('engagements.csv')\n",
    "enrollment = pd.read_csv('enrollments.csv')\n",
    "submissions = pd.read_csv('submissions.csv')"
   ]
  },
  {
   "cell_type": "code",
   "execution_count": 3,
   "id": "a5d1db6f",
   "metadata": {},
   "outputs": [],
   "source": [
    "df_engagement = pd.DataFrame(data=engagement, index=None)\n",
    "df_enrollment = pd.DataFrame(data=enrollment, index=None)\n",
    "df_submissions = pd.DataFrame(data=submissions, index=None)"
   ]
  },
  {
   "cell_type": "code",
   "execution_count": 4,
   "id": "0dda8164",
   "metadata": {},
   "outputs": [],
   "source": [
    "df_enrollment.rename(columns={ \"account_key\": 'acct'}, inplace=True)\n",
    "ee_merge = pd.merge(df_engagement, df_enrollment[['join_date', 'acct']], on='acct', how='right')"
   ]
  },
  {
   "cell_type": "code",
   "execution_count": 5,
   "id": "76936708",
   "metadata": {},
   "outputs": [],
   "source": [
    "ee_merge.utc_date = pd.to_datetime(ee_merge['utc_date'])\n",
    "ee_merge.join_date = pd.to_datetime(ee_merge['join_date'])"
   ]
  },
  {
   "cell_type": "code",
   "execution_count": 6,
   "id": "05e7a911",
   "metadata": {},
   "outputs": [],
   "source": [
    "time_delta_of_seven = ee_merge.loc[(ee_merge['utc_date'] - ee_merge['join_date']).dt.days <= 7]\n",
    "filtered = time_delta_of_seven.drop_duplicates(subset='acct')"
   ]
  },
  {
   "cell_type": "code",
   "execution_count": 10,
   "id": "ba4758a8",
   "metadata": {},
   "outputs": [
    {
     "name": "stdout",
     "output_type": "stream",
     "text": [
      "0         700\n",
      "1         700\n",
      "2         700\n",
      "3         700\n",
      "4         700\n",
      "         ... \n",
      "196266    818\n",
      "196267    818\n",
      "196268    818\n",
      "196269    818\n",
      "196270    818\n",
      "Name: acct, Length: 33328, dtype: int64\n"
     ]
    }
   ],
   "source": [
    "print(time_delta_of_seven['acct'])"
   ]
  },
  {
   "cell_type": "code",
   "execution_count": null,
   "id": "8f69bda2",
   "metadata": {},
   "outputs": [],
   "source": []
  }
 ],
 "metadata": {
  "kernelspec": {
   "display_name": "Python 3 (ipykernel)",
   "language": "python",
   "name": "python3"
  },
  "language_info": {
   "codemirror_mode": {
    "name": "ipython",
    "version": 3
   },
   "file_extension": ".py",
   "mimetype": "text/x-python",
   "name": "python",
   "nbconvert_exporter": "python",
   "pygments_lexer": "ipython3",
   "version": "3.9.7"
  }
 },
 "nbformat": 4,
 "nbformat_minor": 5
}
